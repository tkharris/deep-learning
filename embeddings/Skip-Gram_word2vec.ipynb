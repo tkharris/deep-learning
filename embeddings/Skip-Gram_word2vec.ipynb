{
 "cells": [
  {
   "cell_type": "markdown",
   "metadata": {},
   "source": [
    "# Skip-gram word2vec\n",
    "\n",
    "In this notebook, I'll lead you through using TensorFlow to implement the word2vec algorithm using the skip-gram architecture. By implementing this, you'll learn about embedding words for use in natural language processing. This will come in handy when dealing with things like machine translation.\n",
    "\n",
    "## Readings\n",
    "\n",
    "Here are the resources I used to build this notebook. I suggest reading these either beforehand or while you're working on this material.\n",
    "\n",
    "* A really good [conceptual overview](http://mccormickml.com/2016/04/19/word2vec-tutorial-the-skip-gram-model/) of word2vec from Chris McCormick \n",
    "* [First word2vec paper](https://arxiv.org/pdf/1301.3781.pdf) from Mikolov et al.\n",
    "* [NIPS paper](http://papers.nips.cc/paper/5021-distributed-representations-of-words-and-phrases-and-their-compositionality.pdf) with improvements for word2vec also from Mikolov et al.\n",
    "* An [implementation of word2vec](http://www.thushv.com/natural_language_processing/word2vec-part-1-nlp-with-deep-learning-with-tensorflow-skip-gram/) from Thushan Ganegedara\n",
    "* TensorFlow [word2vec tutorial](https://www.tensorflow.org/tutorials/word2vec)\n",
    "\n",
    "## Word embeddings\n",
    "\n",
    "When you're dealing with words in text, you end up with tens of thousands of classes to predict, one for each word. Trying to one-hot encode these words is massively inefficient, you'll have one element set to 1 and the other 50,000 set to 0. The matrix multiplication going into the first hidden layer will have almost all of the resulting values be zero. This a huge waste of computation. \n",
    "\n",
    "![one-hot encodings](assets/one_hot_encoding.png)\n",
    "\n",
    "To solve this problem and greatly increase the efficiency of our networks, we use what are called embeddings. Embeddings are just a fully connected layer like you've seen before. We call this layer the embedding layer and the weights are embedding weights. We skip the multiplication into the embedding layer by instead directly grabbing the hidden layer values from the weight matrix. We can do this because the multiplication of a one-hot encoded vector with a matrix returns the row of the matrix corresponding the index of the \"on\" input unit.\n",
    "\n",
    "![lookup](assets/lookup_matrix.png)\n",
    "\n",
    "Instead of doing the matrix multiplication, we use the weight matrix as a lookup table. We encode the words as integers, for example \"heart\" is encoded as 958, \"mind\" as 18094. Then to get hidden layer values for \"heart\", you just take the 958th row of the embedding matrix. This process is called an **embedding lookup** and the number of hidden units is the **embedding dimension**.\n",
    "\n",
    "<img src='assets/tokenize_lookup.png' width=500>\n",
    " \n",
    "There is nothing magical going on here. The embedding lookup table is just a weight matrix. The embedding layer is just a hidden layer. The lookup is just a shortcut for the matrix multiplication. The lookup table is trained just like any weight matrix as well.\n",
    "\n",
    "Embeddings aren't only used for words of course. You can use them for any model where you have a massive number of classes. A particular type of model called **Word2Vec** uses the embedding layer to find vector representations of words that contain semantic meaning.\n",
    "\n"
   ]
  },
  {
   "cell_type": "markdown",
   "metadata": {},
   "source": [
    "## Word2Vec\n",
    "\n",
    "The word2vec algorithm finds much more efficient representations by finding vectors that represent the words. These vectors also contain semantic information about the words. Words that show up in similar contexts, such as \"black\", \"white\", and \"red\" will have vectors near each other. There are two architectures for implementing word2vec, CBOW (Continuous Bag-Of-Words) and Skip-gram.\n",
    "\n",
    "<img src=\"assets/word2vec_architectures.png\" width=\"500\">\n",
    "\n",
    "In this implementation, we'll be using the skip-gram architecture because it performs better than CBOW. Here, we pass in a word and try to predict the words surrounding it in the text. In this way, we can train the network to learn representations for words that show up in similar contexts.\n",
    "\n",
    "First up, importing packages."
   ]
  },
  {
   "cell_type": "code",
   "execution_count": 1,
   "metadata": {
    "collapsed": true
   },
   "outputs": [],
   "source": [
    "import time\n",
    "\n",
    "import numpy as np\n",
    "import tensorflow as tf\n",
    "\n",
    "import utils"
   ]
  },
  {
   "cell_type": "markdown",
   "metadata": {},
   "source": [
    "Load the [text8 dataset](http://mattmahoney.net/dc/textdata.html), a file of cleaned up Wikipedia articles from Matt Mahoney. The next cell will download the data set to the `data` folder. Then you can extract it and delete the archive file to save storage space."
   ]
  },
  {
   "cell_type": "code",
   "execution_count": 2,
   "metadata": {},
   "outputs": [
    {
     "name": "stderr",
     "output_type": "stream",
     "text": [
      "Text8 Dataset: 31.4MB [00:06, 4.61MB/s]                                                                                \n"
     ]
    }
   ],
   "source": [
    "from urllib.request import urlretrieve\n",
    "from os.path import isfile, isdir\n",
    "from tqdm import tqdm\n",
    "import zipfile\n",
    "\n",
    "dataset_folder_path = 'data'\n",
    "dataset_filename = 'text8.zip'\n",
    "dataset_name = 'Text8 Dataset'\n",
    "\n",
    "class DLProgress(tqdm):\n",
    "    last_block = 0\n",
    "\n",
    "    def hook(self, block_num=1, block_size=1, total_size=None):\n",
    "        self.total = total_size\n",
    "        self.update((block_num - self.last_block) * block_size)\n",
    "        self.last_block = block_num\n",
    "\n",
    "if not isfile(dataset_filename):\n",
    "    with DLProgress(unit='B', unit_scale=True, miniters=1, desc=dataset_name) as pbar:\n",
    "        urlretrieve(\n",
    "            'http://mattmahoney.net/dc/text8.zip',\n",
    "            dataset_filename,\n",
    "            pbar.hook)\n",
    "\n",
    "if not isdir(dataset_folder_path):\n",
    "    with zipfile.ZipFile(dataset_filename) as zip_ref:\n",
    "        zip_ref.extractall(dataset_folder_path)\n",
    "        \n",
    "with open('data/text8') as f:\n",
    "    text = f.read()"
   ]
  },
  {
   "cell_type": "markdown",
   "metadata": {},
   "source": [
    "## Preprocessing\n",
    "\n",
    "Here I'm fixing up the text to make training easier. This comes from the `utils` module I wrote. The `preprocess` function coverts any punctuation into tokens, so a period is changed to ` <PERIOD> `. In this data set, there aren't any periods, but it will help in other NLP problems. I'm also removing all words that show up five or fewer times in the dataset. This will greatly reduce issues due to noise in the data and improve the quality of the vector representations. If you want to write your own functions for this stuff, go for it."
   ]
  },
  {
   "cell_type": "code",
   "execution_count": 42,
   "metadata": {},
   "outputs": [
    {
     "name": "stdout",
     "output_type": "stream",
     "text": [
      "['anarchism', 'originated', 'as', 'a', 'term', 'of', 'abuse', 'first', 'used', 'against', 'early', 'working', 'class', 'radicals', 'including', 'the', 'diggers', 'of', 'the', 'english', 'revolution', 'and', 'the', 'sans', 'culottes', 'of', 'the', 'french', 'revolution', 'whilst']\n"
     ]
    }
   ],
   "source": [
    "words = utils.preprocess(text)\n",
    "print(words[:30])"
   ]
  },
  {
   "cell_type": "code",
   "execution_count": 43,
   "metadata": {},
   "outputs": [
    {
     "name": "stdout",
     "output_type": "stream",
     "text": [
      "Total words: 16680599\n",
      "Unique words: 63641\n"
     ]
    }
   ],
   "source": [
    "print(\"Total words: {}\".format(len(words)))\n",
    "print(\"Unique words: {}\".format(len(set(words))))"
   ]
  },
  {
   "cell_type": "markdown",
   "metadata": {},
   "source": [
    "And here I'm creating dictionaries to convert words to integers and backwards, integers to words. The integers are assigned in descending frequency order, so the most frequent word (\"the\") is given the integer 0 and the next most frequent is 1 and so on. The words are converted to integers and stored in the list `int_words`."
   ]
  },
  {
   "cell_type": "code",
   "execution_count": 44,
   "metadata": {
    "collapsed": true
   },
   "outputs": [],
   "source": [
    "vocab_to_int, int_to_vocab = utils.create_lookup_tables(words)\n",
    "int_words = [vocab_to_int[word] for word in words]"
   ]
  },
  {
   "cell_type": "markdown",
   "metadata": {},
   "source": [
    "## Subsampling\n",
    "\n",
    "Words that show up often such as \"the\", \"of\", and \"for\" don't provide much context to the nearby words. If we discard some of them, we can remove some of the noise from our data and in return get faster training and better representations. This process is called subsampling by Mikolov. For each word $w_i$ in the training set, we'll discard it with probability given by \n",
    "\n",
    "$$ P(w_i) = 1 - \\sqrt{\\frac{t}{f(w_i)}} $$\n",
    "\n",
    "where $t$ is a threshold parameter and $f(w_i)$ is the frequency of word $w_i$ in the total dataset.\n",
    "\n",
    "I'm going to leave this up to you as an exercise. This is more of a programming challenge, than about deep learning specifically. But, being able to prepare your data for your network is an important skill to have. Check out my solution to see how I did it.\n",
    "\n",
    "> **Exercise:** Implement subsampling for the words in `int_words`. That is, go through `int_words` and discard each word given the probablility $P(w_i)$ shown above. Note that $P(w_i)$ is the probability that a word is discarded. Assign the subsampled data to `train_words`."
   ]
  },
  {
   "cell_type": "code",
   "execution_count": 45,
   "metadata": {},
   "outputs": [],
   "source": [
    "## Your code here\n",
    "from collections import Counter\n",
    "\n",
    "def subsample(words, threshhold=1e-5):\n",
    "    word_count = Counter(int_words)\n",
    "    q = threshhold*len(words)\n",
    "    p_drop = lambda word: 1.0 - np.sqrt(q/word_count[word])\n",
    "    for w in words:\n",
    "        if (np.random.rand() > p_drop(w)):\n",
    "            yield w\n",
    "\n",
    "train_words = list(subsample(int_words)) # The final subsampled word list"
   ]
  },
  {
   "cell_type": "markdown",
   "metadata": {},
   "source": [
    "## Making batches"
   ]
  },
  {
   "cell_type": "markdown",
   "metadata": {},
   "source": [
    "Now that our data is in good shape, we need to get it into the proper form to pass it into our network. With the skip-gram architecture, for each word in the text, we want to grab all the words in a window around that word, with size $C$. \n",
    "\n",
    "From [Mikolov et al.](https://arxiv.org/pdf/1301.3781.pdf): \n",
    "\n",
    "\"Since the more distant words are usually less related to the current word than those close to it, we give less weight to the distant words by sampling less from those words in our training examples... If we choose $C = 5$, for each training word we will select randomly a number $R$ in range $< 1; C >$, and then use $R$ words from history and $R$ words from the future of the current word as correct labels.\"\n",
    "\n",
    "> **Exercise:** Implement a function `get_target` that receives a list of words, an index, and a window size, then returns a list of words in the window around the index. Make sure to use the algorithm described above, where you choose a random number of words from the window."
   ]
  },
  {
   "cell_type": "code",
   "execution_count": 46,
   "metadata": {
    "collapsed": true
   },
   "outputs": [],
   "source": [
    "def get_target(words, idx, window_size=5):\n",
    "    ''' Get a list of words in a window around an index. '''\n",
    "    \n",
    "    # Your code here\n",
    "    n_words = len(words)\n",
    "    r = np.random.randint(window_size)+1\n",
    "    start, stop = max(0, idx-r), min(n_words-1, idx+r)\n",
    "    #print(\"start: {}, stop: {}, idx: {}\".format(start, stop, idx))\n",
    "    #print(\"l: {}, r: {}, l+r: {}\".format(words[start:idx]))\n",
    "    \n",
    "    return np.append(words[start:idx], words[idx+1:idx+stop+1])"
   ]
  },
  {
   "cell_type": "markdown",
   "metadata": {},
   "source": [
    "Here's a function that returns batches for our network. The idea is that it grabs `batch_size` words from a words list. Then for each of those words, it gets the target words in the window. I haven't found a way to pass in a random number of target words and get it to work with the architecture, so I make one row per input-target pair. This is a generator function by the way, helps save memory."
   ]
  },
  {
   "cell_type": "code",
   "execution_count": 47,
   "metadata": {
    "collapsed": true
   },
   "outputs": [],
   "source": [
    "def get_batches(words, batch_size, window_size=5):\n",
    "    ''' Create a generator of word batches as a tuple (inputs, targets) '''\n",
    "    \n",
    "    n_batches = len(words)//batch_size\n",
    "    \n",
    "    # only full batches\n",
    "    words = words[:n_batches*batch_size]\n",
    "    \n",
    "    for idx in range(0, len(words), batch_size):\n",
    "        x, y = [], []\n",
    "        batch = words[idx:idx+batch_size]\n",
    "        for ii in range(len(batch)):\n",
    "            batch_x = batch[ii]\n",
    "            batch_y = get_target(batch, ii, window_size)\n",
    "            y.extend(batch_y)\n",
    "            x.extend([batch_x]*len(batch_y))\n",
    "        yield x, y\n",
    "    "
   ]
  },
  {
   "cell_type": "markdown",
   "metadata": {},
   "source": [
    "## Building the graph\n",
    "\n",
    "From [Chris McCormick's blog](http://mccormickml.com/2016/04/19/word2vec-tutorial-the-skip-gram-model/), we can see the general structure of our network.\n",
    "![embedding_network](./assets/skip_gram_net_arch.png)\n",
    "\n",
    "The input words are passed in as integers. This will go into a hidden layer of linear units, then into a softmax layer. We'll use the softmax layer to make a prediction like normal.\n",
    "\n",
    "The idea here is to train the hidden layer weight matrix to find efficient representations for our words. We can discard the softmax layer becuase we don't really care about making predictions with this network. We just want the embedding matrix so we can use it in other networks we build from the dataset.\n",
    "\n",
    "I'm going to have you build the graph in stages now. First off, creating the `inputs` and `labels` placeholders like normal.\n",
    "\n",
    "> **Exercise:** Assign `inputs` and `labels` using `tf.placeholder`. We're going to be passing in integers, so set the data types to `tf.int32`. The batches we're passing in will have varying sizes, so set the batch sizes to [`None`]. To make things work later, you'll need to set the second dimension of `labels` to `None` or `1`."
   ]
  },
  {
   "cell_type": "code",
   "execution_count": 48,
   "metadata": {
    "collapsed": true
   },
   "outputs": [],
   "source": [
    "train_graph = tf.Graph()\n",
    "vocab_n = len(vocab_to_int)\n",
    "with train_graph.as_default():\n",
    "    inputs = tf.placeholder(tf.int32, (None), name='inputs')\n",
    "    labels = tf.placeholder(tf.int32, (None, None), name='labels')"
   ]
  },
  {
   "cell_type": "markdown",
   "metadata": {},
   "source": [
    "## Embedding\n",
    "\n"
   ]
  },
  {
   "cell_type": "markdown",
   "metadata": {
    "collapsed": true
   },
   "source": [
    "The embedding matrix has a size of the number of words by the number of units in the hidden layer. So, if you have 10,000 words and 300 hidden units, the matrix will have size $10,000 \\times 300$. Remember that we're using tokenized data for our inputs, usually as integers, where the number of tokens is the number of words in our vocabulary.\n",
    "\n",
    "\n",
    "> **Exercise:** Tensorflow provides a convenient function [`tf.nn.embedding_lookup`](https://www.tensorflow.org/api_docs/python/tf/nn/embedding_lookup) that does this lookup for us. You pass in the embedding matrix and a tensor of integers, then it returns rows in the matrix corresponding to those integers. Below, set the number of embedding features you'll use (200 is a good start), create the embedding matrix variable, and use `tf.nn.embedding_lookup` to get the embedding tensors. For the embedding matrix, I suggest you initialize it with a uniform random numbers between -1 and 1 using [tf.random_uniform](https://www.tensorflow.org/api_docs/python/tf/random_uniform)."
   ]
  },
  {
   "cell_type": "code",
   "execution_count": 49,
   "metadata": {},
   "outputs": [],
   "source": [
    "n_vocab = len(int_to_vocab)\n",
    "n_embedding =  200 # Number of embedding features \n",
    "with train_graph.as_default():\n",
    "    embedding = tf.Variable(tf.random_uniform((n_vocab, n_embedding), -1, 1)) # create embedding weight matrix here\n",
    "    embed = tf.nn.embedding_lookup(embedding, inputs) # use tf.nn.embedding_lookup to get the hidden layer output"
   ]
  },
  {
   "cell_type": "code",
   "execution_count": 50,
   "metadata": {},
   "outputs": [
    {
     "name": "stdout",
     "output_type": "stream",
     "text": [
      "63641\n"
     ]
    }
   ],
   "source": [
    "print(n_vocab)"
   ]
  },
  {
   "cell_type": "markdown",
   "metadata": {},
   "source": [
    "## Negative sampling\n",
    "\n"
   ]
  },
  {
   "cell_type": "markdown",
   "metadata": {},
   "source": [
    "For every example we give the network, we train it using the output from the softmax layer. That means for each input, we're making very small changes to millions of weights even though we only have one true example. This makes training the network very inefficient. We can approximate the loss from the softmax layer by only updating a small subset of all the weights at once. We'll update the weights for the correct label, but only a small number of incorrect labels. This is called [\"negative sampling\"](http://papers.nips.cc/paper/5021-distributed-representations-of-words-and-phrases-and-their-compositionality.pdf). Tensorflow has a convenient function to do this, [`tf.nn.sampled_softmax_loss`](https://www.tensorflow.org/api_docs/python/tf/nn/sampled_softmax_loss).\n",
    "\n",
    "> **Exercise:** Below, create weights and biases for the softmax layer. Then, use [`tf.nn.sampled_softmax_loss`](https://www.tensorflow.org/api_docs/python/tf/nn/sampled_softmax_loss) to calculate the loss. Be sure to read the documentation to figure out how it works."
   ]
  },
  {
   "cell_type": "code",
   "execution_count": 52,
   "metadata": {},
   "outputs": [],
   "source": [
    "# Number of negative labels to sample\n",
    "n_sampled = 100\n",
    "with train_graph.as_default():\n",
    "    softmax_w = tf.Variable(tf.truncated_normal((n_vocab, n_embedding), stddev=0.1)) # create softmax weight matrix here\n",
    "    softmax_b = tf.Variable(tf.zeros((n_vocab))) # create softmax biases here\n",
    "    \n",
    "    # Calculate the loss using negative sampling\n",
    "    loss = tf.nn.sampled_softmax_loss(weights=softmax_w, \n",
    "                                      biases=softmax_b, \n",
    "                                      labels=labels, \n",
    "                                      inputs=embed, \n",
    "                                      num_sampled=n_sampled,\n",
    "                                      num_classes=n_vocab)\n",
    "    \n",
    "    cost = tf.reduce_mean(loss)\n",
    "    optimizer = tf.train.AdamOptimizer().minimize(cost)"
   ]
  },
  {
   "cell_type": "markdown",
   "metadata": {},
   "source": [
    "## Validation\n",
    "\n",
    "This code is from Thushan Ganegedara's implementation. Here we're going to choose a few common words and few uncommon words. Then, we'll print out the closest words to them. It's a nice way to check that our embedding table is grouping together words with similar semantic meanings."
   ]
  },
  {
   "cell_type": "code",
   "execution_count": 53,
   "metadata": {},
   "outputs": [],
   "source": [
    "import random\n",
    "with train_graph.as_default():\n",
    "    ## From Thushan Ganegedara's implementation\n",
    "    valid_size = 16 # Random set of words to evaluate similarity on.\n",
    "    valid_window = 100\n",
    "    # pick 8 samples from (0,100) and (1000,1100) each ranges. lower id implies more frequent \n",
    "    valid_examples = np.array(random.sample(range(valid_window), valid_size//2))\n",
    "    valid_examples = np.append(valid_examples, \n",
    "                               random.sample(range(1000,1000+valid_window), valid_size//2))\n",
    "\n",
    "    valid_dataset = tf.constant(valid_examples, dtype=tf.int32)\n",
    "    \n",
    "    # We use the cosine distance:\n",
    "    norm = tf.sqrt(tf.reduce_sum(tf.square(embedding), 1, keep_dims=True))\n",
    "    normalized_embedding = embedding / norm\n",
    "    valid_embedding = tf.nn.embedding_lookup(normalized_embedding, valid_dataset)\n",
    "    similarity = tf.matmul(valid_embedding, tf.transpose(normalized_embedding))"
   ]
  },
  {
   "cell_type": "code",
   "execution_count": 54,
   "metadata": {},
   "outputs": [
    {
     "name": "stderr",
     "output_type": "stream",
     "text": [
      "A subdirectory or file checkpoints already exists.\n"
     ]
    }
   ],
   "source": [
    "# If the checkpoints directory doesn't exist:\n",
    "!mkdir checkpoints"
   ]
  },
  {
   "cell_type": "markdown",
   "metadata": {},
   "source": [
    "## Training\n",
    "\n",
    "Below is the code to train the network. Every 100 batches it reports the training loss. Every 1000 batches, it'll print out the validation words."
   ]
  },
  {
   "cell_type": "code",
   "execution_count": 56,
   "metadata": {},
   "outputs": [
    {
     "name": "stdout",
     "output_type": "stream",
     "text": [
      "Epoch 1/1 Iteration: 100 Avg. Training loss: 5.6151 2.6620 sec/batch\n",
      "Epoch 1/1 Iteration: 200 Avg. Training loss: 5.5822 2.7636 sec/batch\n",
      "Epoch 1/1 Iteration: 300 Avg. Training loss: 5.5029 2.6728 sec/batch\n",
      "Epoch 1/1 Iteration: 400 Avg. Training loss: 5.5166 2.6735 sec/batch\n",
      "Epoch 1/1 Iteration: 500 Avg. Training loss: 5.4572 2.4073 sec/batch\n",
      "Epoch 1/1 Iteration: 600 Avg. Training loss: 5.4319 2.4071 sec/batch\n",
      "Epoch 1/1 Iteration: 700 Avg. Training loss: 5.4493 2.4357 sec/batch\n",
      "Epoch 1/1 Iteration: 800 Avg. Training loss: 5.4354 2.3852 sec/batch\n",
      "Epoch 1/1 Iteration: 900 Avg. Training loss: 5.2808 2.3920 sec/batch\n",
      "Epoch 1/1 Iteration: 1000 Avg. Training loss: 5.2027 2.3999 sec/batch\n",
      "Nearest to more: ecumenism, famed, prosecutors, fig, haas, overwhelmingly, dewar, operatives,\n",
      "Nearest to people: nationality, colonizer, points, flex, deadites, guitarist, salamat, cameraman,\n",
      "Nearest to two: photographer, clements, solon, appendage, universals, shortness, bomber, physik,\n",
      "Nearest to their: removing, gant, what, a, resign, bluebeard, burn, gunboat,\n",
      "Nearest to will: ultimo, enchantment, bodied, lichtenfeld, colloquially, pitch, nostra, tome,\n",
      "Nearest to this: representatives, papacy, bear, fearless, koopman, blaming, argonne, perched,\n",
      "Nearest to can: owing, verbs, bonilla, tracks, outlook, inflating, southwestern, fashioned,\n",
      "Nearest to as: finsbury, farmers, pacelli, area, vin, sns, implicitly, henry,\n",
      "Nearest to applied: brown, researchers, emancipation, hinge, aphorisms, camouflaged, audiophiles, retriever,\n",
      "Nearest to bible: unprecedented, doubted, marry, bumper, milvian, meisner, intelligence, resolving,\n",
      "Nearest to derived: mover, gigantes, travelogues, reo, lies, entails, org, bureaucratic,\n",
      "Nearest to dr: vectra, shek, solenoid, dissatisfaction, enjoined, needed, executives, novice,\n",
      "Nearest to event: faring, stuart, speer, meteorite, trip, individually, distances, oskar,\n",
      "Nearest to paris: vivisection, chassis, audacity, drastically, sebring, plutarch, chico, ogilvie,\n",
      "Nearest to older: perpetuating, crankshafts, riichi, hartsfield, iceni, keep, jeou, stillman,\n",
      "Nearest to mathematics: radiant, kampuchean, gino, liddy, ran, syrups, geometrical, christensen,\n",
      "Epoch 1/1 Iteration: 1100 Avg. Training loss: 5.2217 2.4604 sec/batch\n",
      "Epoch 1/1 Iteration: 1200 Avg. Training loss: 5.0585 2.5102 sec/batch\n",
      "Epoch 1/1 Iteration: 1300 Avg. Training loss: 5.0344 2.5360 sec/batch\n",
      "Epoch 1/1 Iteration: 1400 Avg. Training loss: 4.9816 2.5610 sec/batch\n",
      "Epoch 1/1 Iteration: 1500 Avg. Training loss: 4.9522 2.5262 sec/batch\n",
      "Epoch 1/1 Iteration: 1600 Avg. Training loss: 4.9287 2.5297 sec/batch\n",
      "Epoch 1/1 Iteration: 1700 Avg. Training loss: 4.9119 2.5444 sec/batch\n",
      "Epoch 1/1 Iteration: 1800 Avg. Training loss: 4.9162 2.5385 sec/batch\n",
      "Epoch 1/1 Iteration: 1900 Avg. Training loss: 4.8817 2.5051 sec/batch\n",
      "Epoch 1/1 Iteration: 2000 Avg. Training loss: 4.8991 2.4473 sec/batch\n",
      "Nearest to more: famed, ecumenism, fig, dewar, juvenile, haas, coleridge, overwhelmingly,\n",
      "Nearest to people: starter, cameraman, salamat, flex, nationality, colonizer, acknowledges, awe,\n",
      "Nearest to two: photographer, clements, shortness, societies, hardening, banality, mathematical, universals,\n",
      "Nearest to their: removing, gant, burn, resign, canary, gunboat, bluebeard, democratically,\n",
      "Nearest to will: ultimo, enchantment, bodied, colloquially, lichtenfeld, pitch, dreyer, ccr,\n",
      "Nearest to this: papacy, representatives, bear, myself, blaming, fearless, argonne, alkaloids,\n",
      "Nearest to can: owing, bonilla, inflating, votes, tracks, outlook, southwestern, fashioned,\n",
      "Nearest to as: finsbury, pacelli, sns, vin, implicitly, redefine, dozens, farmers,\n",
      "Nearest to applied: brown, researchers, emancipation, hinge, dream, maryland, tore, corporations,\n",
      "Nearest to bible: doubted, resolving, unprecedented, bumper, pak, route, finlay, milvian,\n",
      "Nearest to derived: entails, mover, lies, gigantes, travelogues, bureaucratic, org, happening,\n",
      "Nearest to dr: shek, dissatisfaction, vectra, needed, executives, internationally, given, solenoid,\n",
      "Nearest to event: faring, stuart, speer, meteorite, secession, individually, trip, distances,\n",
      "Nearest to paris: vivisection, chassis, drastically, chico, audacity, plutarch, ogilvie, decoder,\n",
      "Nearest to older: perpetuating, crankshafts, riichi, hartsfield, jeou, iceni, wuhan, sneezing,\n",
      "Nearest to mathematics: radiant, kampuchean, gino, liddy, spaced, ran, geometrical, syrups,\n",
      "Epoch 1/1 Iteration: 2100 Avg. Training loss: 4.8574 2.4159 sec/batch\n",
      "Epoch 1/1 Iteration: 2200 Avg. Training loss: 4.8178 2.3914 sec/batch\n",
      "Epoch 1/1 Iteration: 2300 Avg. Training loss: 4.8687 2.3867 sec/batch\n",
      "Epoch 1/1 Iteration: 2400 Avg. Training loss: 4.8335 2.3953 sec/batch\n",
      "Epoch 1/1 Iteration: 2500 Avg. Training loss: 4.8125 2.3909 sec/batch\n",
      "Epoch 1/1 Iteration: 2600 Avg. Training loss: 4.8114 2.3998 sec/batch\n",
      "Epoch 1/1 Iteration: 2700 Avg. Training loss: 4.8200 2.3945 sec/batch\n",
      "Epoch 1/1 Iteration: 2800 Avg. Training loss: 4.8189 2.3959 sec/batch\n",
      "Epoch 1/1 Iteration: 2900 Avg. Training loss: 4.8209 2.4137 sec/batch\n",
      "Epoch 1/1 Iteration: 3000 Avg. Training loss: 4.8275 2.3912 sec/batch\n",
      "Nearest to more: ecumenism, famed, juvenile, haas, fig, coleridge, dewar, unhappiness,\n",
      "Nearest to people: salamat, cameraman, starter, fournier, replete, nationality, acknowledges, flex,\n",
      "Nearest to two: solon, shortness, clements, societies, photographer, banality, hardening, memoir,\n",
      "Nearest to their: removing, resign, gant, burn, canary, gunboat, bluebeard, dow,\n",
      "Nearest to will: enchantment, ultimo, bodied, lichtenfeld, colloquially, fledging, pitch, dreyer,\n",
      "Nearest to this: papacy, bear, representatives, myself, perched, alkaloids, urng, blaming,\n",
      "Nearest to can: bonilla, owing, yardbirds, inflating, votes, bronx, tracks, focussed,\n",
      "Nearest to as: finsbury, pacelli, reproduces, sns, gx, dozens, reckless, gyatso,\n",
      "Nearest to applied: brown, researchers, emancipation, hinge, audiophiles, tore, aphorisms, retriever,\n",
      "Nearest to bible: doubted, pak, bumper, resolving, finlay, route, marry, unprecedented,\n",
      "Nearest to derived: mover, travelogues, lies, entails, org, reo, happening, gigantes,\n",
      "Nearest to dr: shek, dissatisfaction, vectra, needed, biola, solenoid, given, weblog,\n",
      "Nearest to event: stuart, faring, speer, meteorite, uriah, secession, oskar, meteorological,\n",
      "Nearest to paris: vivisection, chassis, drastically, audacity, plutarch, chico, sebring, htp,\n",
      "Nearest to older: crankshafts, perpetuating, riichi, hartsfield, jeou, iceni, tarentum, nozzles,\n",
      "Nearest to mathematics: radiant, kampuchean, gino, liddy, spaced, ran, geometrical, syrups,\n",
      "Epoch 1/1 Iteration: 3100 Avg. Training loss: 4.7909 2.3985 sec/batch\n",
      "Epoch 1/1 Iteration: 3200 Avg. Training loss: 4.7915 2.3978 sec/batch\n",
      "Epoch 1/1 Iteration: 3300 Avg. Training loss: 4.7888 2.3961 sec/batch\n",
      "Epoch 1/1 Iteration: 3400 Avg. Training loss: 4.7915 2.4164 sec/batch\n",
      "Epoch 1/1 Iteration: 3500 Avg. Training loss: 4.8082 2.4080 sec/batch\n",
      "Epoch 1/1 Iteration: 3600 Avg. Training loss: 4.7677 2.4072 sec/batch\n",
      "Epoch 1/1 Iteration: 3700 Avg. Training loss: 4.7634 2.4416 sec/batch\n",
      "Epoch 1/1 Iteration: 3800 Avg. Training loss: 4.7697 2.4137 sec/batch\n",
      "Epoch 1/1 Iteration: 3900 Avg. Training loss: 4.7499 2.4139 sec/batch\n",
      "Epoch 1/1 Iteration: 4000 Avg. Training loss: 4.7666 2.4089 sec/batch\n",
      "Nearest to more: ecumenism, juvenile, haas, famed, fig, unhappiness, coleridge, hamburger,\n",
      "Nearest to people: cameraman, salamat, fournier, nationality, replete, flex, acknowledges, starter,\n",
      "Nearest to two: societies, solon, memoir, photographer, rushdie, symmetry, neighbors, scarcity,\n",
      "Nearest to their: resign, removing, gant, burn, bluebeard, davidians, what, dow,\n",
      "Nearest to will: enchantment, ultimo, bodied, dreyer, fledging, lichtenfeld, colloquially, pitch,\n",
      "Nearest to this: papacy, myself, bear, perched, representatives, alkaloids, fearless, urng,\n",
      "Nearest to can: yardbirds, bonilla, owing, jeter, bronx, inflating, focussed, tracks,\n",
      "Nearest to as: finsbury, pacelli, brokeback, gx, sns, dozens, reproduces, hess,\n",
      "Nearest to applied: brown, researchers, emancipation, hinge, audiophiles, tore, camouflaged, dream,\n",
      "Nearest to bible: pak, doubted, bumper, resolving, finlay, route, marry, ensembl,\n"
     ]
    },
    {
     "name": "stdout",
     "output_type": "stream",
     "text": [
      "Nearest to derived: mover, org, lies, travelogues, entails, reo, happening, gigantes,\n",
      "Nearest to dr: shek, dissatisfaction, vectra, given, needed, solenoid, weblog, change,\n",
      "Nearest to event: faring, stuart, speer, meteorite, secession, uriah, oskar, meteorological,\n",
      "Nearest to paris: vivisection, chassis, audacity, plutarch, drastically, chico, levelled, sebring,\n",
      "Nearest to older: crankshafts, riichi, perpetuating, jeou, iceni, hartsfield, sidon, stillman,\n",
      "Nearest to mathematics: kampuchean, gino, radiant, liddy, spaced, geometrical, ran, exerts,\n",
      "Epoch 1/1 Iteration: 4100 Avg. Training loss: 4.7711 2.4161 sec/batch\n",
      "Epoch 1/1 Iteration: 4200 Avg. Training loss: 4.7326 2.4143 sec/batch\n",
      "Epoch 1/1 Iteration: 4300 Avg. Training loss: 4.7853 2.4036 sec/batch\n",
      "Epoch 1/1 Iteration: 4400 Avg. Training loss: 4.7375 2.4210 sec/batch\n",
      "Epoch 1/1 Iteration: 4500 Avg. Training loss: 4.7400 2.4187 sec/batch\n",
      "Epoch 1/1 Iteration: 4600 Avg. Training loss: 4.7112 2.3981 sec/batch\n"
     ]
    }
   ],
   "source": [
    "epochs = 1\n",
    "batch_size = 1000\n",
    "window_size = 10\n",
    "\n",
    "with train_graph.as_default():\n",
    "    saver = tf.train.Saver()\n",
    "\n",
    "with tf.Session(graph=train_graph) as sess:\n",
    "    iteration = 1\n",
    "    loss = 0\n",
    "    sess.run(tf.global_variables_initializer())\n",
    "\n",
    "    for e in range(1, epochs+1):\n",
    "        batches = get_batches(train_words, batch_size, window_size)\n",
    "        start = time.time()\n",
    "        for x, y in batches:\n",
    "            \n",
    "            feed = {inputs: x,\n",
    "                    labels: np.array(y)[:, None]}\n",
    "            train_loss, _ = sess.run([cost, optimizer], feed_dict=feed)\n",
    "            \n",
    "            loss += train_loss\n",
    "            \n",
    "            if iteration % 100 == 0: \n",
    "                end = time.time()\n",
    "                print(\"Epoch {}/{}\".format(e, epochs),\n",
    "                      \"Iteration: {}\".format(iteration),\n",
    "                      \"Avg. Training loss: {:.4f}\".format(loss/100),\n",
    "                      \"{:.4f} sec/batch\".format((end-start)/100))\n",
    "                loss = 0\n",
    "                start = time.time()\n",
    "            \n",
    "            if iteration % 1000 == 0:\n",
    "                ## From Thushan Ganegedara's implementation\n",
    "                # note that this is expensive (~20% slowdown if computed every 500 steps)\n",
    "                sim = similarity.eval()\n",
    "                for i in range(valid_size):\n",
    "                    valid_word = int_to_vocab[valid_examples[i]]\n",
    "                    top_k = 8 # number of nearest neighbors\n",
    "                    nearest = (-sim[i, :]).argsort()[1:top_k+1]\n",
    "                    log = 'Nearest to %s:' % valid_word\n",
    "                    for k in range(top_k):\n",
    "                        close_word = int_to_vocab[nearest[k]]\n",
    "                        log = '%s %s,' % (log, close_word)\n",
    "                    print(log)\n",
    "            \n",
    "            iteration += 1\n",
    "    save_path = saver.save(sess, \"checkpoints/text8.ckpt\")\n",
    "    embed_mat = sess.run(normalized_embedding)"
   ]
  },
  {
   "cell_type": "markdown",
   "metadata": {},
   "source": [
    "Restore the trained network if you need to:"
   ]
  },
  {
   "cell_type": "code",
   "execution_count": null,
   "metadata": {
    "collapsed": true
   },
   "outputs": [],
   "source": [
    "with train_graph.as_default():\n",
    "    saver = tf.train.Saver()\n",
    "\n",
    "with tf.Session(graph=train_graph) as sess:\n",
    "    saver.restore(sess, tf.train.latest_checkpoint('checkpoints'))\n",
    "    embed_mat = sess.run(embedding)"
   ]
  },
  {
   "cell_type": "markdown",
   "metadata": {},
   "source": [
    "## Visualizing the word vectors\n",
    "\n",
    "Below we'll use T-SNE to visualize how our high-dimensional word vectors cluster together. T-SNE is used to project these vectors into two dimensions while preserving local stucture. Check out [this post from Christopher Olah](http://colah.github.io/posts/2014-10-Visualizing-MNIST/) to learn more about T-SNE and other ways to visualize high-dimensional data."
   ]
  },
  {
   "cell_type": "code",
   "execution_count": null,
   "metadata": {
    "collapsed": true
   },
   "outputs": [],
   "source": [
    "%matplotlib inline\n",
    "%config InlineBackend.figure_format = 'retina'\n",
    "\n",
    "import matplotlib.pyplot as plt\n",
    "from sklearn.manifold import TSNE"
   ]
  },
  {
   "cell_type": "code",
   "execution_count": null,
   "metadata": {
    "collapsed": true
   },
   "outputs": [],
   "source": [
    "viz_words = 500\n",
    "tsne = TSNE()\n",
    "embed_tsne = tsne.fit_transform(embed_mat[:viz_words, :])"
   ]
  },
  {
   "cell_type": "code",
   "execution_count": null,
   "metadata": {
    "collapsed": true
   },
   "outputs": [],
   "source": [
    "fig, ax = plt.subplots(figsize=(14, 14))\n",
    "for idx in range(viz_words):\n",
    "    plt.scatter(*embed_tsne[idx, :], color='steelblue')\n",
    "    plt.annotate(int_to_vocab[idx], (embed_tsne[idx, 0], embed_tsne[idx, 1]), alpha=0.7)"
   ]
  }
 ],
 "metadata": {
  "kernelspec": {
   "display_name": "Python 3",
   "language": "python",
   "name": "python3"
  },
  "language_info": {
   "codemirror_mode": {
    "name": "ipython",
    "version": 3
   },
   "file_extension": ".py",
   "mimetype": "text/x-python",
   "name": "python",
   "nbconvert_exporter": "python",
   "pygments_lexer": "ipython3",
   "version": "3.6.1"
  }
 },
 "nbformat": 4,
 "nbformat_minor": 2
}
